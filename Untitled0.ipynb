{
  "nbformat": 4,
  "nbformat_minor": 0,
  "metadata": {
    "colab": {
      "name": "Untitled0.ipynb",
      "provenance": [],
      "authorship_tag": "ABX9TyPPVxsxl2O3zfu9Fti/nDM4",
      "include_colab_link": true
    },
    "kernelspec": {
      "name": "python3",
      "display_name": "Python 3"
    },
    "language_info": {
      "name": "python"
    }
  },
  "cells": [
    {
      "cell_type": "markdown",
      "metadata": {
        "id": "view-in-github",
        "colab_type": "text"
      },
      "source": [
        "<a href=\"https://colab.research.google.com/github/dungcand23/Face-/blob/main/Untitled0.ipynb\" target=\"_parent\"><img src=\"https://colab.research.google.com/assets/colab-badge.svg\" alt=\"Open In Colab\"/></a>"
      ]
    },
    {
      "cell_type": "code",
      "metadata": {
        "id": "Rf9drOfWvOFR"
      },
      "source": [
        "pip install matplotlib-venn"
      ],
      "execution_count": null,
      "outputs": []
    },
    {
      "cell_type": "code",
      "metadata": {
        "id": "JAcbzb92vUTS"
      },
      "source": [
        "pip install opencv-python"
      ],
      "execution_count": null,
      "outputs": []
    },
    {
      "cell_type": "code",
      "metadata": {
        "id": "bDxA_r1ovVA4"
      },
      "source": [
        "pip install deepface"
      ],
      "execution_count": null,
      "outputs": []
    },
    {
      "cell_type": "code",
      "metadata": {
        "id": "rZKQO5UovXKx"
      },
      "source": [
        "import cv2"
      ],
      "execution_count": 11,
      "outputs": []
    },
    {
      "cell_type": "code",
      "metadata": {
        "id": "bTm8W1J-vZK6"
      },
      "source": [
        "!pip install -q keras\n",
        "import keras"
      ],
      "execution_count": 12,
      "outputs": []
    },
    {
      "cell_type": "code",
      "metadata": {
        "colab": {
          "base_uri": "https://localhost:8080/"
        },
        "id": "5tNKp-oRvblR",
        "outputId": "3ca608b1-2af5-4fef-fc1f-e5c30358bcc4"
      },
      "source": [
        "from google.colab import drive\n",
        "drive.mount('/content/gdrive')"
      ],
      "execution_count": 13,
      "outputs": [
        {
          "output_type": "stream",
          "text": [
            "Drive already mounted at /content/gdrive; to attempt to forcibly remount, call drive.mount(\"/content/gdrive\", force_remount=True).\n"
          ],
          "name": "stdout"
        }
      ]
    },
    {
      "cell_type": "code",
      "metadata": {
        "id": "v6hjyW0Svd34"
      },
      "source": [
        "import matplotlib.pyplot as plt\n",
        "import numpy as np\n",
        "import pandas as pd\n",
        "from PIL import Image\n"
      ],
      "execution_count": 14,
      "outputs": []
    },
    {
      "cell_type": "code",
      "metadata": {
        "id": "Ae5aog3KvkgJ"
      },
      "source": [
        "from deepface import DeepFace\n",
        "img = cv2.imread(\"/content/gdrive/MyDrive/foder\")\n",
        "demography = DeepFace.analyze(\"/content/gdrive/MyDrive/foder/hinh_anh_binh_luan_vui_nhon_facebook_20.jpg\", actions = ['age', 'gender', 'race', 'emotion'])\n",
        "print(\"Emotion: \", demography[\"dominant_emotion\"])\n",
        "print(\"Age: \", demography[\"age\"])\n",
        "print(\"Gender: \", demography[\"gender\"])"
      ],
      "execution_count": null,
      "outputs": []
    }
  ]
}